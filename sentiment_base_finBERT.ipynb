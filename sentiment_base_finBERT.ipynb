{
 "cells": [
  {
   "cell_type": "markdown",
   "metadata": {},
   "source": [
    "基于yiyanghkust/finbert-tone-chinese 的文本情感分析\n",
    "\n",
    "https://huggingface.co/yiyanghkust/finbert-tone-chinese"
   ]
  },
  {
   "cell_type": "code",
   "execution_count": 1,
   "metadata": {},
   "outputs": [
    {
     "name": "stderr",
     "output_type": "stream",
     "text": [
      "C:\\Users\\ASUS-ROG\\AppData\\Roaming\\Python\\Python310\\site-packages\\tqdm\\auto.py:21: TqdmWarning: IProgress not found. Please update jupyter and ipywidgets. See https://ipywidgets.readthedocs.io/en/stable/user_install.html\n",
      "  from .autonotebook import tqdm as notebook_tqdm\n"
     ]
    }
   ],
   "source": [
    "import pandas as pd\n",
    "import os\n",
    "from tqdm import tqdm\n",
    "import torch\n",
    "from transformers import AutoTokenizer, AutoModelForSequenceClassification\n",
    "\n",
    "\n",
    "device = torch.device(\"cuda\" if torch.cuda.is_available() else \"cpu\")\n",
    "\n",
    "finbert_tone_chinese_tokenizer = AutoTokenizer.from_pretrained(\"yiyanghkust/finbert-tone-chinese\")\n",
    "finbert_tone_chinese_model = AutoModelForSequenceClassification.from_pretrained(\"yiyanghkust/finbert-tone-chinese\").to(device)"
   ]
  },
  {
   "cell_type": "code",
   "execution_count": 2,
   "metadata": {},
   "outputs": [],
   "source": [
    "def analyze_sentiment(text):\n",
    "    inputs = finbert_tone_chinese_tokenizer(text, return_tensors=\"pt\", truncation=True, max_length=512).to(device)\n",
    "    with torch.no_grad():\n",
    "        outputs = finbert_tone_chinese_model(**inputs)\n",
    "    logits = outputs.logits\n",
    "    probs = torch.nn.functional.softmax(logits, dim=1).cpu().numpy().flatten()\n",
    "    \n",
    "    return probs\n"
   ]
  },
  {
   "cell_type": "code",
   "execution_count": null,
   "metadata": {},
   "outputs": [
    {
     "name": "stderr",
     "output_type": "stream",
     "text": [
      "Processing sentiment analysis:   0%|          | 10/2144 [00:14<57:21,  1.61s/it] "
     ]
    }
   ],
   "source": [
    "output_dir = 'finbert_tone_chinese_output'\n",
    "os.makedirs(output_dir, exist_ok=True)\n",
    "tqdm.pandas(desc=\"Processing sentiment analysis\")\n",
    "\n",
    "input_files = os.listdir(\"batch_save_xlcj_flash\")\n",
    "\n",
    "processed_files = set(os.listdir(output_dir))\n",
    "\n",
    "# Only process files that haven't been processed yet\n",
    "files_to_process = [file for file in input_files if f\"{file}\" not in processed_files]\n",
    "\n",
    "for file in tqdm(files_to_process, desc=\"Processing sentiment analysis\"):\n",
    "    flash_batch_data = pd.read_feather(f\"batch_save_xlcj_flash/{file}\")\n",
    "    \n",
    "    flash_batch_data[['Neutral', 'Positive', 'Negative']] = flash_batch_data['rich_text'].apply(lambda x: pd.Series(analyze_sentiment(x)))  # Labels: 0 -> Neutral; 1 -> Positive; 2 -> Negative\n",
    "    \n",
    "    flash_batch_data.to_feather(f\"{output_dir}/{file}\")"
   ]
  },
  {
   "cell_type": "code",
   "execution_count": null,
   "metadata": {},
   "outputs": [],
   "source": []
  },
  {
   "cell_type": "markdown",
   "metadata": {},
   "source": [
    "调用Helsinki-NLP/opus-mt-zh-en 将中文翻译为英文之后 再调用原始 FinBERT 进行情感分析"
   ]
  },
  {
   "cell_type": "code",
   "execution_count": null,
   "metadata": {},
   "outputs": [
    {
     "name": "stderr",
     "output_type": "stream",
     "text": [
      "C:\\Users\\ASUS-ROG\\AppData\\Roaming\\Python\\Python310\\site-packages\\transformers\\models\\marian\\tokenization_marian.py:197: UserWarning: Recommended: pip install sacremoses.\n",
      "  warnings.warn(\"Recommended: pip install sacremoses.\")\n"
     ]
    }
   ],
   "source": [
    "import pandas as pd\n",
    "import os\n",
    "from tqdm import tqdm\n",
    "import torch\n",
    "from transformers import AutoTokenizer, AutoModelForSequenceClassification\n",
    "from transformers import AutoTokenizer, AutoModelForSeq2SeqLM\n",
    "device = torch.device(\"cuda\" if torch.cuda.is_available() else \"cpu\")\n",
    "\n",
    "translator_tokenizer = AutoTokenizer.from_pretrained(\"Helsinki-NLP/opus-mt-zh-en\")\n",
    "translator_model = AutoModelForSeq2SeqLM.from_pretrained(\"Helsinki-NLP/opus-mt-zh-en\").to(device)\n",
    "\n",
    "finbert_tokenizer = AutoTokenizer.from_pretrained(\"ahmedrachid/FinancialBERT-Sentiment-Analysis\")\n",
    "finbert_model = AutoModelForSequenceClassification.from_pretrained(\"ahmedrachid/FinancialBERT-Sentiment-Analysis\").to(device)"
   ]
  },
  {
   "cell_type": "code",
   "execution_count": null,
   "metadata": {},
   "outputs": [],
   "source": [
    "def translate_text(text):\n",
    "    inputs = translator_tokenizer(text, return_tensors=\"pt\", padding=True).to(device)\n",
    "    translated_ids = translator_model.generate(**inputs)\n",
    "    translated_text = translator_tokenizer.decode(translated_ids[0], skip_special_tokens=True)\n",
    "    return translated_text\n",
    "\n",
    "# 函数：进行情绪分析\n",
    "def analyze_sentiment(text):\n",
    "    inputs = finbert_tokenizer(text, return_tensors=\"pt\", truncation=True, max_length=512).to(device)\n",
    "    with torch.no_grad():\n",
    "        outputs = finbert_model(**inputs)\n",
    "    logits = outputs.logits\n",
    "    probs = torch.nn.functional.softmax(logits, dim=1).cpu().numpy().flatten()\n",
    "    return probs\n",
    "\n",
    "def process_df(df):\n",
    "    df['translate_content'] = df['rich_text'].apply(translate_text)\n",
    "    df[['Negative', 'Neutral', 'Positive']] = df['translate_content'].apply(lambda x: pd.Series(analyze_sentiment(x))) # Labels: 0 -> Negative; 1 -> Neutral; 2 -> Positive\n",
    "    return df\n"
   ]
  },
  {
   "cell_type": "code",
   "execution_count": null,
   "metadata": {},
   "outputs": [],
   "source": [
    "output_dir = 'translate_en_finbert_origin_output'\n",
    "os.makedirs(output_dir, exist_ok=True)\n",
    "tqdm.pandas(desc=\"Processing sentiment analysis\")\n",
    "\n",
    "input_files = os.listdir(\"batch_save_xlcj_flash\")\n",
    "\n",
    "processed_files = set(os.listdir(output_dir))\n",
    "\n",
    "# Only process files that haven't been processed yet\n",
    "files_to_process = [file for file in input_files if f\"{file}\" not in processed_files]\n",
    "\n",
    "for file in tqdm(files_to_process, desc=\"Processing sentiment analysis\"):\n",
    "    flash_batch_data = pd.read_feather(f\"batch_save_xlcj_flash/{file}\")\n",
    "    flash_batch_data_with_senti = process_df(flash_batch_data)\n",
    "    flash_batch_data_with_senti.to_feather(f\"{output_dir}/{file}\")"
   ]
  }
 ],
 "metadata": {
  "kernelspec": {
   "display_name": "pytorch_env",
   "language": "python",
   "name": "python3"
  },
  "language_info": {
   "codemirror_mode": {
    "name": "ipython",
    "version": 3
   },
   "file_extension": ".py",
   "mimetype": "text/x-python",
   "name": "python",
   "nbconvert_exporter": "python",
   "pygments_lexer": "ipython3",
   "version": "3.10.14"
  }
 },
 "nbformat": 4,
 "nbformat_minor": 2
}
